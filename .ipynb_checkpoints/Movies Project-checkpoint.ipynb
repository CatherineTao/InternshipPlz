{
 "cells": [
  {
   "cell_type": "code",
   "execution_count": null,
   "metadata": {},
   "outputs": [],
   "source": [
    "import pandas as pd\n",
    "import numpy as np\n",
    "import json"
   ]
  },
  {
   "cell_type": "code",
   "execution_count": null,
   "metadata": {},
   "outputs": [],
   "source": [
    "credits = pd.read_csv('credits.csv')\n",
    "credits = credits.drop(columns = ['id','crew'])"
   ]
  },
  {
   "cell_type": "code",
   "execution_count": null,
   "metadata": {},
   "outputs": [],
   "source": [
    "credits.head()"
   ]
  },
  {
   "cell_type": "code",
   "execution_count": null,
   "metadata": {},
   "outputs": [],
   "source": [
    "arrvales = []\n",
    "def gettingIndividual(x):\n",
    "    text = x\n",
    "    sep = \"}\"\n",
    "    result = [x+sep for x in text.split(sep)]\n",
    "    #['foo,', 'bar,', 'baz,', 'qux,']\n",
    "    # to get rid of trailing\n",
    "    result[-1] = result[-1].strip(sep)\n",
    "    #['foo,', 'bar,', 'baz,', 'qux']\n",
    "\n",
    "    result = [sep+x for x in text.split(sep)]\n",
    "    #[',foo', ',bar', ',baz', ',qux']\n",
    "    # to get rid of trailing\n",
    "    result[0] = result[0].strip(sep)\n",
    "    arrvales.append(result)"
   ]
  },
  {
   "cell_type": "code",
   "execution_count": null,
   "metadata": {},
   "outputs": [],
   "source": [
    "\n"
   ]
  },
  {
   "cell_type": "code",
   "execution_count": null,
   "metadata": {},
   "outputs": [],
   "source": [
    "credits.applymap(gettingIndividual)"
   ]
  },
  {
   "cell_type": "code",
   "execution_count": null,
   "metadata": {},
   "outputs": [],
   "source": [
    "arrvales"
   ]
  },
  {
   "cell_type": "code",
   "execution_count": null,
   "metadata": {},
   "outputs": [],
   "source": [
    "jsonvals = []\n",
    "count = 1\n",
    "for x in credits['cast'].values:\n",
    "    print(x.replace(\"'\",'\"').replace('None','\"None\"')[2400: 2500])\n",
    "    jsonvals.append(json.loads(x.replace(\"'\",'\"').replace('None','\"None\"')))"
   ]
  },
  {
   "cell_type": "code",
   "execution_count": null,
   "metadata": {},
   "outputs": [],
   "source": [
    "jsonvals"
   ]
  },
  {
   "cell_type": "code",
   "execution_count": null,
   "metadata": {
    "scrolled": true
   },
   "outputs": [],
   "source": [
    "credits.iloc[0,0]"
   ]
  },
  {
   "cell_type": "code",
   "execution_count": null,
   "metadata": {},
   "outputs": [],
   "source": [
    "# credits['cast'][0][1:-1]"
   ]
  },
  {
   "cell_type": "code",
   "execution_count": null,
   "metadata": {},
   "outputs": [],
   "source": [
    "# for i in range(len(credits['cast'])):\n",
    "#     str_dict = credits['cast'][i].replace(\"[\",\"\")\n",
    "#     str_dict_final = str_dict.replace(\"]\",\"\")\n",
    "#     print(eval(str_dict_final.replace(\"'\", \"\\\"\")))\n",
    "\n"
   ]
  },
  {
   "cell_type": "markdown",
   "metadata": {},
   "source": [
    "the json object in the column cast is a str so i had to try to change it to a json obj but i can't cause it becomes a tuple not a json object, i was watchin some examples they kinda just left the str json object so idk wat to do"
   ]
  },
  {
   "cell_type": "code",
   "execution_count": null,
   "metadata": {
    "scrolled": false
   },
   "outputs": [],
   "source": [
    "str_dict = credits['cast'][0].replace(\"[\",\"\")\n",
    "str_dict_final = str_dict.replace(\"]\",\"\")\n",
    "str_dict_final\n",
    "# eval(str_dict_final.replace(\"'\", \"\\\"\"))"
   ]
  },
  {
   "cell_type": "code",
   "execution_count": null,
   "metadata": {
    "scrolled": true
   },
   "outputs": [],
   "source": [
    "temp = str_dict_final.replace('None','\"None\"').split('},')\n",
    "for i in range(len(temp)):\n",
    "    if len(temp)-1 == i:\n",
    "        toConv = temp[i]\n",
    "    else:\n",
    "        toConv = temp[i]+'}'\n",
    "    toConv = toConv.replace(\"'\", '\"')\n",
    "    print(toConv)\n",
    "    print(i)\n",
    "    json.loads(toConv)"
   ]
  },
  {
   "cell_type": "code",
   "execution_count": null,
   "metadata": {},
   "outputs": [],
   "source": [
    "def split_str(row):\n",
    "    temp = row[1:-1]\n",
    "    temp = temp.replace('None','\"None\"').split('},')\n",
    "    for i in range(len(temp)):\n",
    "        if len(temp)-1 == i:\n",
    "            toConv = temp[i]\n",
    "        else:\n",
    "            toConv = temp[i]+'}'\n",
    "        toConv = toConv.replace(\"'\", '\"')\n",
    "        print(toConv)\n",
    "        print(i)\n",
    "        json.loads(toConv)"
   ]
  },
  {
   "cell_type": "code",
   "execution_count": null,
   "metadata": {},
   "outputs": [],
   "source": [
    "cast = credits[['cast','id']].head()\n",
    "cast.apply(lambda x: print(x))"
   ]
  },
  {
   "cell_type": "code",
   "execution_count": null,
   "metadata": {},
   "outputs": [],
   "source": []
  },
  {
   "cell_type": "code",
   "execution_count": null,
   "metadata": {},
   "outputs": [],
   "source": [
    "keywords = pd.read_csv('keywords.csv')"
   ]
  },
  {
   "cell_type": "code",
   "execution_count": null,
   "metadata": {},
   "outputs": [],
   "source": [
    "keywords.head()"
   ]
  },
  {
   "cell_type": "code",
   "execution_count": null,
   "metadata": {},
   "outputs": [],
   "source": [
    "links = pd.read_csv('links.csv')"
   ]
  },
  {
   "cell_type": "code",
   "execution_count": null,
   "metadata": {},
   "outputs": [],
   "source": []
  },
  {
   "cell_type": "code",
   "execution_count": null,
   "metadata": {},
   "outputs": [],
   "source": [
    "small_links = pd.read_csv('small_links.csv')"
   ]
  },
  {
   "cell_type": "code",
   "execution_count": null,
   "metadata": {},
   "outputs": [],
   "source": [
    "movies_metadata = pd.read_csv('movies_metadata.csv')"
   ]
  },
  {
   "cell_type": "code",
   "execution_count": null,
   "metadata": {},
   "outputs": [],
   "source": [
    "ratings = pd.read_csv('ratings.csv')"
   ]
  },
  {
   "cell_type": "code",
   "execution_count": null,
   "metadata": {},
   "outputs": [],
   "source": [
    "ratings_small = pd.read_csv('ratings_small.csv')"
   ]
  },
  {
   "cell_type": "code",
   "execution_count": null,
   "metadata": {},
   "outputs": [],
   "source": []
  },
  {
   "cell_type": "code",
   "execution_count": null,
   "metadata": {},
   "outputs": [],
   "source": [
    "# parse json"
   ]
  },
  {
   "cell_type": "code",
   "execution_count": null,
   "metadata": {},
   "outputs": [],
   "source": []
  },
  {
   "cell_type": "code",
   "execution_count": null,
   "metadata": {},
   "outputs": [],
   "source": []
  }
 ],
 "metadata": {
  "kernelspec": {
   "display_name": "Python 3",
   "language": "python",
   "name": "python3"
  },
  "language_info": {
   "codemirror_mode": {
    "name": "ipython",
    "version": 3
   },
   "file_extension": ".py",
   "mimetype": "text/x-python",
   "name": "python",
   "nbconvert_exporter": "python",
   "pygments_lexer": "ipython3",
   "version": "3.7.4"
  }
 },
 "nbformat": 4,
 "nbformat_minor": 2
}
