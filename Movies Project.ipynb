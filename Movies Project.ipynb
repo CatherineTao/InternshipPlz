{
 "cells": [
  {
   "cell_type": "code",
   "execution_count": 1,
   "metadata": {},
   "outputs": [],
   "source": [
    "import pandas as pd\n",
    "import numpy as np\n",
    "import json"
   ]
  },
  {
   "cell_type": "code",
   "execution_count": 33,
   "metadata": {},
   "outputs": [],
   "source": [
    "credits = pd.read_csv('credits.csv')\n"
   ]
  },
  {
   "cell_type": "code",
   "execution_count": 30,
   "metadata": {},
   "outputs": [
    {
     "name": "stdout",
     "output_type": "stream",
     "text": [
      "({'cast_id': 14, 'character': 'Woody (voice)', 'credit_id': '52fe4284c3a36847f8024f95', 'gender': 2, 'id': 31, 'name': 'Tom Hanks', 'order': 0, 'profile_path': '/pQFoyx7rp09CJTAb932F2g8Nlho.jpg'}, {'cast_id': 15, 'character': 'Buzz Lightyear (voice)', 'credit_id': '52fe4284c3a36847f8024f99', 'gender': 2, 'id': 12898, 'name': 'Tim Allen', 'order': 1, 'profile_path': '/uX2xVf6pMmPepxnvFWyBtjexzgY.jpg'}, {'cast_id': 16, 'character': 'Mr. Potato Head (voice)', 'credit_id': '52fe4284c3a36847f8024f9d', 'gender': 2, 'id': 7167, 'name': 'Don Rickles', 'order': 2, 'profile_path': '/h5BcaDMPRVLHLDzbQavec4xfSdt.jpg'}, {'cast_id': 17, 'character': 'Slinky Dog (voice)', 'credit_id': '52fe4284c3a36847f8024fa1', 'gender': 2, 'id': 12899, 'name': 'Jim Varney', 'order': 3, 'profile_path': '/eIo2jVVXYgjDtaHoF19Ll9vtW7h.jpg'}, {'cast_id': 18, 'character': 'Rex (voice)', 'credit_id': '52fe4284c3a36847f8024fa5', 'gender': 2, 'id': 12900, 'name': 'Wallace Shawn', 'order': 4, 'profile_path': '/oGE6JqPP2xH4tNORKNqxbNPYi7u.jpg'}, {'cast_id': 19, 'character': 'Hamm (voice)', 'credit_id': '52fe4284c3a36847f8024fa9', 'gender': 2, 'id': 7907, 'name': 'John Ratzenberger', 'order': 5, 'profile_path': '/yGechiKWL6TJDfVE2KPSJYqdMsY.jpg'}, {'cast_id': 20, 'character': 'Bo Peep (voice)', 'credit_id': '52fe4284c3a36847f8024fad', 'gender': 1, 'id': 8873, 'name': 'Annie Potts', 'order': 6, 'profile_path': '/eryXT84RL41jHSJcMy4kS3u9y6w.jpg'}, {'cast_id': 26, 'character': 'Andy (voice)', 'credit_id': '52fe4284c3a36847f8024fc1', 'gender': 0, 'id': 1116442, 'name': 'John Morris', 'order': 7, 'profile_path': '/vYGyvK4LzeaUCoNSHtsuqJUY15M.jpg'}, {'cast_id': 22, 'character': 'Sid (voice)', 'credit_id': '52fe4284c3a36847f8024fb1', 'gender': 2, 'id': 12901, 'name': 'Erik von Detten', 'order': 8, 'profile_path': '/twnF1ZaJ1FUNUuo6xLXwcxjayBE.jpg'}, {'cast_id': 23, 'character': 'Mrs. Davis (voice)', 'credit_id': '52fe4284c3a36847f8024fb5', 'gender': 1, 'id': 12133, 'name': 'Laurie Metcalf', 'order': 9, 'profile_path': '/unMMIT60eoBM2sN2nyR7EZ2BvvD.jpg'}, {'cast_id': 24, 'character': 'Sergeant (voice)', 'credit_id': '52fe4284c3a36847f8024fb9', 'gender': 2, 'id': 8655, 'name': 'R. Lee Ermey', 'order': 10, 'profile_path': '/r8GBqFBjypLUP9VVqDqfZ7wYbSs.jpg'}, {'cast_id': 25, 'character': 'Hannah (voice)', 'credit_id': '52fe4284c3a36847f8024fbd', 'gender': 1, 'id': 12903, 'name': 'Sarah Freeman', 'order': 11, 'profile_path': None}, {'cast_id': 27, 'character': 'TV Announcer (voice)', 'credit_id': '52fe4284c3a36847f8024fc5', 'gender': 2, 'id': 37221, 'name': 'Penn Jillette', 'order': 12, 'profile_path': '/zmAaXUdx12NRsssgHbk1T31j2x9.jpg'})\n",
      "({'cast_id': 1, 'character': 'Alan Parrish', 'credit_id': '52fe44bfc3a36847f80a7c73', 'gender': 2, 'id': 2157, 'name': 'Robin Williams', 'order': 0, 'profile_path': '/sojtJyIV3lkUeThD7A2oHNm8183.jpg'}, {'cast_id': 8, 'character': 'Samuel Alan Parrish / Van Pelt', 'credit_id': '52fe44bfc3a36847f80a7c99', 'gender': 2, 'id': 8537, 'name': 'Jonathan Hyde', 'order': 1, 'profile_path': '/7il5D76vx6QVRVlpVvBPEC40MBi.jpg'}, {'cast_id': 2, 'character': 'Judy Sheperd', 'credit_id': '52fe44bfc3a36847f80a7c77', 'gender': 1, 'id': 205, 'name': 'Kirsten Dunst', 'order': 2, 'profile_path': '/wBXvh6PJd0IUVNpvatPC1kzuHtm.jpg'}, {'cast_id': 24, 'character': 'Peter Shepherd', 'credit_id': '52fe44c0c3a36847f80a7ce7', 'gender': 0, 'id': 145151, 'name': 'Bradley Pierce', 'order': 3, 'profile_path': '/j6iW0vVA23GQniAPSYI6mi4hiEW.jpg'}, {'cast_id': 10, 'character': 'Sarah Whittle', 'credit_id': '52fe44bfc3a36847f80a7c9d', 'gender': 1, 'id': 5149, 'name': 'Bonnie Hunt', 'order': 4, 'profile_path': '/7spiVQwmr8siw5QCcvvdRG3c7Lf.jpg'}, {'cast_id': 25, 'character': 'Nora Shepherd', 'credit_id': '52fe44c0c3a36847f80a7ceb', 'gender': 1, 'id': 10739, 'name': 'Bebe Neuwirth', 'order': 5, 'profile_path': '/xm58rpMRVDHS0IGttw1pTlqGwkN.jpg'}, {'cast_id': 26, 'character': 'Carl Bentley', 'credit_id': '52fe44c0c3a36847f80a7cef', 'gender': 2, 'id': 58563, 'name': 'David Alan Grier', 'order': 6, 'profile_path': '/5tkt3qRZTco4sz604aTIarQ0m8W.jpg'}, {'cast_id': 11, 'character': 'Carol Anne Parrish', 'credit_id': '52fe44bfc3a36847f80a7ca1', 'gender': 1, 'id': 1276, 'name': 'Patricia Clarkson', 'order': 7, 'profile_path': '/10ZSyaUqzUlKTd60HmeiGhlytZG.jpg'}, {'cast_id': 14, 'character': 'Alan Parrish (young)', 'credit_id': '52fe44bfc3a36847f80a7cad', 'gender': 0, 'id': 46530, 'name': 'Adam Hann-Byrd', 'order': 8, 'profile_path': '/hEoqDqtMO91hYWD5iDrDesnLDlt.jpg'}, {'cast_id': 13, 'character': 'Sarah Whittle (young)', 'credit_id': '52fe44bfc3a36847f80a7ca9', 'gender': 1, 'id': 56523, 'name': 'Laura Bell Bundy', 'order': 9, 'profile_path': '/8tAVDBRoZPjKfCbBDyh4iK9JNEp.jpg'}, {'cast_id': 31, 'character': 'Exterminator', 'credit_id': '52fe44c0c3a36847f80a7cff', 'gender': 2, 'id': 51551, 'name': 'James Handy', 'order': 10, 'profile_path': '/vm0WQmuP8jEGgFTd3VCcJe7zpUi.jpg'}, {'cast_id': 12, 'character': 'Mrs. Thomas the Realtor', 'credit_id': '52fe44bfc3a36847f80a7ca5', 'gender': 1, 'id': 56522, 'name': 'Gillian Barber', 'order': 11, 'profile_path': '/qoqPX15J5jh6Sy0A9JvvRJIuw64.jpg'}, {'cast_id': 28, 'character': 'Benjamin', 'credit_id': '52fe44c0c3a36847f80a7cf3', 'gender': 2, 'id': 1000304, 'name': 'Brandon Obray', 'order': 12, 'profile_path': None}, {'cast_id': 29, 'character': 'Caleb', 'credit_id': '52fe44c0c3a36847f80a7cf7', 'gender': 0, 'id': 188949, 'name': 'Cyrus Thiedeke', 'order': 13, 'profile_path': None}, {'cast_id': 30, 'character': 'Billy Jessup', 'credit_id': '52fe44c0c3a36847f80a7cfb', 'gender': 0, 'id': 1076551, 'name': 'Gary Joseph Thorup', 'order': 14, 'profile_path': None}, {'cast_id': 32, 'character': 'Cop', 'credit_id': '5588053fc3a36838530063f5', 'gender': 0, 'id': 1480246, 'name': 'Leonard Zola', 'order': 15, 'profile_path': None}, {'cast_id': 33, 'character': 'Bum', 'credit_id': '55935687925141645a002097', 'gender': 2, 'id': 25024, 'name': 'Lloyd Berry', 'order': 16, 'profile_path': '/s7SVCOtvcuQ9wRQPZfUdahb5x88.jpg'}, {'cast_id': 34, 'character': 'Jim Shepherd', 'credit_id': '559356d09251415df8002cb7', 'gender': 2, 'id': 27110, 'name': 'Malcolm Stewart', 'order': 17, 'profile_path': '/l2vgzkLR7GRr8ugjZCILA0OiliI.jpg'}, {'cast_id': 35, 'character': 'Martha Shepherd', 'credit_id': '55935730925141645a0020ad', 'gender': 0, 'id': 53715, 'name': 'Annabel Kershaw', 'order': 18, 'profile_path': '/1VqbvAohBwFhETZtDe76JXQcxKm.jpg'}, {'cast_id': 36, 'character': 'Gun Salesman', 'credit_id': '5593576992514167fd000610', 'gender': 2, 'id': 1379424, 'name': 'Darryl Henriques', 'order': 19, 'profile_path': '/7QMHooY9ewNQlE24WKAOdwW0evU.jpg'}, {'cast_id': 37, 'character': 'Paramedic', 'credit_id': '559357ae92514152de002f42', 'gender': 0, 'id': 1235504, 'name': 'Robyn Driscoll', 'order': 20, 'profile_path': None}, {'cast_id': 50, 'character': 'Paramedic', 'credit_id': '5657803b925141018f00a5dc', 'gender': 2, 'id': 25389, 'name': 'Peter Bryant', 'order': 21, 'profile_path': '/fkcx9Tnp25UC5HlI2eW3nGvumsZ.jpg'}, {'cast_id': 39, 'character': 'Girl', 'credit_id': '559358e292514152de002f63', 'gender': 0, 'id': 1483449, 'name': 'Sarah Gilson', 'order': 22, 'profile_path': None}, {'cast_id': 40, 'character': 'Girl', 'credit_id': '5593590d92514152db002df3', 'gender': 0, 'id': 1483450, 'name': 'Florica Vlad', 'order': 23, 'profile_path': None}, {'cast_id': 41, 'character': 'Baker', 'credit_id': '55935946c3a36869d1001b4d', 'gender': 0, 'id': 1483451, 'name': 'June Lion', 'order': 24, 'profile_path': None}, {'cast_id': 42, 'character': 'Pianist', 'credit_id': '5593597692514167fd000644', 'gender': 0, 'id': 1483452, 'name': 'Brenda Lockmuller', 'order': 25, 'profile_path': None})\n",
      "({'cast_id': 2, 'character': 'Max Goldman', 'credit_id': '52fe466a9251416c75077a8d', 'gender': 2, 'id': 6837, 'name': 'Walter Matthau', 'order': 0, 'profile_path': '/xJVkvprOnzP5Zdh5y63y8HHniDZ.jpg'}, {'cast_id': 3, 'character': 'John Gustafson', 'credit_id': '52fe466a9251416c75077a91', 'gender': 2, 'id': 3151, 'name': 'Jack Lemmon', 'order': 1, 'profile_path': '/chZmNRYMtqkiDlatprGDH4BzGqG.jpg'}, {'cast_id': 4, 'character': 'Ariel Gustafson', 'credit_id': '52fe466a9251416c75077a95', 'gender': 1, 'id': 13567, 'name': 'Ann-Margret', 'order': 2, 'profile_path': '/jx5lTaJ5VXZHYB52gaOTAZ9STZk.jpg'}, {'cast_id': 5, 'character': 'Maria Sophia Coletta Ragetti', 'credit_id': '52fe466a9251416c75077a99', 'gender': 1, 'id': 16757, 'name': 'Sophia Loren', 'order': 3, 'profile_path': '/emKLhbji1c7BjcA2DdbWf0EP9zH.jpg'}, {'cast_id': 6, 'character': 'Melanie Gustafson', 'credit_id': '52fe466a9251416c75077a9d', 'gender': 1, 'id': 589, 'name': 'Daryl Hannah', 'order': 4, 'profile_path': '/4LLmp6AQdlj6ueGCRbVRSGvvFSt.jpg'}, {'cast_id': 9, 'character': 'Grandpa Gustafson', 'credit_id': '53e5fcc2c3a3684430000d65', 'gender': 2, 'id': 16523, 'name': 'Burgess Meredith', 'order': 5, 'profile_path': '/lm98oKloU33Q7QDIIMSyc4Pr2jA.jpg'}, {'cast_id': 10, 'character': 'Jacob Goldman', 'credit_id': '53e5fcd4c3a3684433000e1a', 'gender': 2, 'id': 7166, 'name': 'Kevin Pollak', 'order': 6, 'profile_path': '/kwu2T8CDnThZTzE88uiSgJ5eHXf.jpg'})\n"
     ]
    },
    {
     "ename": "SyntaxError",
     "evalue": "invalid syntax (<string>, line 1)",
     "output_type": "error",
     "traceback": [
      "Traceback \u001b[1;36m(most recent call last)\u001b[0m:\n",
      "  File \u001b[0;32m\"C:\\Users\\Travi\\Anaconda3\\lib\\site-packages\\IPython\\core\\interactiveshell.py\"\u001b[0m, line \u001b[0;32m3326\u001b[0m, in \u001b[0;35mrun_code\u001b[0m\n    exec(code_obj, self.user_global_ns, self.user_ns)\n",
      "\u001b[1;36m  File \u001b[1;32m\"<ipython-input-30-9e44f707cd3d>\"\u001b[1;36m, line \u001b[1;32m4\u001b[1;36m, in \u001b[1;35m<module>\u001b[1;36m\u001b[0m\n\u001b[1;33m    print(eval(str_dict_final.replace(\"'\", \"\\\"\")))\u001b[0m\n",
      "\u001b[1;36m  File \u001b[1;32m\"<string>\"\u001b[1;36m, line \u001b[1;32m1\u001b[0m\n\u001b[1;33m    {\"cast_id\": 1, \"character\": \"Savannah \"Vannah\" Jackson\", \"credit_id\": \"52fe44779251416c91011aad\", \"gender\": 1, \"id\": 8851, \"name\": \"Whitney Houston\", \"order\": 0, \"profile_path\": \"/69ouDnXnmklYPr4sMJXWKYz81AL.jpg\"}, {\"cast_id\": 2, \"character\": \"Bernadine \"Bernie\" Harris\", \"credit_id\": \"52fe44779251416c91011ab1\", \"gender\": 1, \"id\": 9780, \"name\": \"Angela Bassett\", \"order\": 1, \"profile_path\": \"/tHkgSzhEuJKp5hqp0DZLad8HNZ9.jpg\"}, {\"cast_id\": 3, \"character\": \"Gloria \"Glo\" Matthews\", \"credit_id\": \"52fe44779251416c91011ab5\", \"gender\": 1, \"id\": 18284, \"name\": \"Loretta Devine\", \"order\": 2, \"profile_path\": \"/zLQFwQTFtHkb8sbFdkPNamFI7jv.jpg\"}, {\"cast_id\": 4, \"character\": \"Robin Stokes\", \"credit_id\": \"52fe44779251416c91011ab9\", \"gender\": 1, \"id\": 51359, \"name\": \"Lela Rochon\", \"order\": 3, \"profile_path\": \"/9DBu3r5O4fBosSS4FnSzFCVpm0O.jpg\"}, {\"cast_id\": 5, \"character\": \"Marvin King\", \"credit_id\": \"52fe44779251416c91011abd\", \"gender\": 2, \"id\": 66804, \"name\": \"Gregory Hines\", \"order\": 4, \"profile_path\": \"/rvvQWFQGeGR14WFVNe0Qg1J7uVY.jpg\"}, {\"cast_id\": 6, \"character\": \"Kenneth Dawkins\", \"credit_id\": \"52fe44779251416c91011ac1\", \"gender\": 2, \"id\": 352, \"name\": \"Dennis Haysbert\", \"order\": 5, \"profile_path\": \"/mn5Nc5Q31GslpVVWs8p41W4TBma.jpg\"}, {\"cast_id\": 8, \"character\": \"John Harris, Sr.\", \"credit_id\": \"52fe44779251416c91011ac5\", \"gender\": 2, \"id\": 87118, \"name\": \"Michael Beach\", \"order\": 6, \"profile_path\": \"/lOlWhURNKyZHn71dvq7qC7fiwN6.jpg\"}, {\"cast_id\": 10, \"character\": \"Troy\", \"credit_id\": \"52fe44779251416c91011acf\", \"gender\": 2, \"id\": 34, \"name\": \"Mykelti Williamson\", \"order\": 7, \"profile_path\": \"/8TTxzpuvvpw2tB8xZBCDslYupNU.jpg\"}, {\"cast_id\": 20, \"character\": \"Joseph\", \"credit_id\": \"56d1b15fc3a3681e4a008b6b\", \"gender\": 2, \"id\": 1276777, \"name\": \"Lamont Johnson\", \"order\": 8, \"profile_path\": \"/wfZzRPJBdsx62GbkUimc1PShxyC.jpg\"}, {\"cast_id\": 21, \"character\": \"James Wheeler\", \"credit_id\": \"56f8a929c3a36816e80084f3\", \"gender\": 2, \"id\": 10814, \"name\": \"Wesley Snipes\", \"order\": 9, \"profile_path\": \"/hQ6EBa6vgu7HoZpzms8Y10VL5Iw.jpg\"}\u001b[0m\n\u001b[1;37m                                                ^\u001b[0m\n\u001b[1;31mSyntaxError\u001b[0m\u001b[1;31m:\u001b[0m invalid syntax\n"
     ]
    }
   ],
   "source": [
    "# for i in range(len(credits['cast'])):\n",
    "#     str_dict = credits['cast'][i].replace(\"[\",\"\")\n",
    "#     str_dict_final = str_dict.replace(\"]\",\"\")\n",
    "#     print(eval(str_dict_final.replace(\"'\", \"\\\"\")))\n",
    "\n"
   ]
  },
  {
   "cell_type": "markdown",
   "metadata": {},
   "source": [
    "the json object in the column cast is a str so i had to try to change it to a json obj but i can't cause it becomes a tuple not a json object, i was watchin some examples they kinda just left the str json object so idk wat to do"
   ]
  },
  {
   "cell_type": "code",
   "execution_count": 32,
   "metadata": {},
   "outputs": [
    {
     "data": {
      "text/plain": [
       "({'cast_id': 14,\n",
       "  'character': 'Woody (voice)',\n",
       "  'credit_id': '52fe4284c3a36847f8024f95',\n",
       "  'gender': 2,\n",
       "  'id': 31,\n",
       "  'name': 'Tom Hanks',\n",
       "  'order': 0,\n",
       "  'profile_path': '/pQFoyx7rp09CJTAb932F2g8Nlho.jpg'},\n",
       " {'cast_id': 15,\n",
       "  'character': 'Buzz Lightyear (voice)',\n",
       "  'credit_id': '52fe4284c3a36847f8024f99',\n",
       "  'gender': 2,\n",
       "  'id': 12898,\n",
       "  'name': 'Tim Allen',\n",
       "  'order': 1,\n",
       "  'profile_path': '/uX2xVf6pMmPepxnvFWyBtjexzgY.jpg'},\n",
       " {'cast_id': 16,\n",
       "  'character': 'Mr. Potato Head (voice)',\n",
       "  'credit_id': '52fe4284c3a36847f8024f9d',\n",
       "  'gender': 2,\n",
       "  'id': 7167,\n",
       "  'name': 'Don Rickles',\n",
       "  'order': 2,\n",
       "  'profile_path': '/h5BcaDMPRVLHLDzbQavec4xfSdt.jpg'},\n",
       " {'cast_id': 17,\n",
       "  'character': 'Slinky Dog (voice)',\n",
       "  'credit_id': '52fe4284c3a36847f8024fa1',\n",
       "  'gender': 2,\n",
       "  'id': 12899,\n",
       "  'name': 'Jim Varney',\n",
       "  'order': 3,\n",
       "  'profile_path': '/eIo2jVVXYgjDtaHoF19Ll9vtW7h.jpg'},\n",
       " {'cast_id': 18,\n",
       "  'character': 'Rex (voice)',\n",
       "  'credit_id': '52fe4284c3a36847f8024fa5',\n",
       "  'gender': 2,\n",
       "  'id': 12900,\n",
       "  'name': 'Wallace Shawn',\n",
       "  'order': 4,\n",
       "  'profile_path': '/oGE6JqPP2xH4tNORKNqxbNPYi7u.jpg'},\n",
       " {'cast_id': 19,\n",
       "  'character': 'Hamm (voice)',\n",
       "  'credit_id': '52fe4284c3a36847f8024fa9',\n",
       "  'gender': 2,\n",
       "  'id': 7907,\n",
       "  'name': 'John Ratzenberger',\n",
       "  'order': 5,\n",
       "  'profile_path': '/yGechiKWL6TJDfVE2KPSJYqdMsY.jpg'},\n",
       " {'cast_id': 20,\n",
       "  'character': 'Bo Peep (voice)',\n",
       "  'credit_id': '52fe4284c3a36847f8024fad',\n",
       "  'gender': 1,\n",
       "  'id': 8873,\n",
       "  'name': 'Annie Potts',\n",
       "  'order': 6,\n",
       "  'profile_path': '/eryXT84RL41jHSJcMy4kS3u9y6w.jpg'},\n",
       " {'cast_id': 26,\n",
       "  'character': 'Andy (voice)',\n",
       "  'credit_id': '52fe4284c3a36847f8024fc1',\n",
       "  'gender': 0,\n",
       "  'id': 1116442,\n",
       "  'name': 'John Morris',\n",
       "  'order': 7,\n",
       "  'profile_path': '/vYGyvK4LzeaUCoNSHtsuqJUY15M.jpg'},\n",
       " {'cast_id': 22,\n",
       "  'character': 'Sid (voice)',\n",
       "  'credit_id': '52fe4284c3a36847f8024fb1',\n",
       "  'gender': 2,\n",
       "  'id': 12901,\n",
       "  'name': 'Erik von Detten',\n",
       "  'order': 8,\n",
       "  'profile_path': '/twnF1ZaJ1FUNUuo6xLXwcxjayBE.jpg'},\n",
       " {'cast_id': 23,\n",
       "  'character': 'Mrs. Davis (voice)',\n",
       "  'credit_id': '52fe4284c3a36847f8024fb5',\n",
       "  'gender': 1,\n",
       "  'id': 12133,\n",
       "  'name': 'Laurie Metcalf',\n",
       "  'order': 9,\n",
       "  'profile_path': '/unMMIT60eoBM2sN2nyR7EZ2BvvD.jpg'},\n",
       " {'cast_id': 24,\n",
       "  'character': 'Sergeant (voice)',\n",
       "  'credit_id': '52fe4284c3a36847f8024fb9',\n",
       "  'gender': 2,\n",
       "  'id': 8655,\n",
       "  'name': 'R. Lee Ermey',\n",
       "  'order': 10,\n",
       "  'profile_path': '/r8GBqFBjypLUP9VVqDqfZ7wYbSs.jpg'},\n",
       " {'cast_id': 25,\n",
       "  'character': 'Hannah (voice)',\n",
       "  'credit_id': '52fe4284c3a36847f8024fbd',\n",
       "  'gender': 1,\n",
       "  'id': 12903,\n",
       "  'name': 'Sarah Freeman',\n",
       "  'order': 11,\n",
       "  'profile_path': None},\n",
       " {'cast_id': 27,\n",
       "  'character': 'TV Announcer (voice)',\n",
       "  'credit_id': '52fe4284c3a36847f8024fc5',\n",
       "  'gender': 2,\n",
       "  'id': 37221,\n",
       "  'name': 'Penn Jillette',\n",
       "  'order': 12,\n",
       "  'profile_path': '/zmAaXUdx12NRsssgHbk1T31j2x9.jpg'})"
      ]
     },
     "execution_count": 32,
     "metadata": {},
     "output_type": "execute_result"
    }
   ],
   "source": [
    "\n",
    "str_dict = credits['cast'][0].replace(\"[\",\"\")\n",
    "str_dict_final = str_dict.replace(\"]\",\"\")\n",
    "\n",
    "eval(str_dict_final.replace(\"'\", \"\\\"\"))\n"
   ]
  },
  {
   "cell_type": "code",
   "execution_count": 11,
   "metadata": {},
   "outputs": [],
   "source": [
    "keywords = pd.read_csv('keywords.csv')\n"
   ]
  },
  {
   "cell_type": "code",
   "execution_count": 12,
   "metadata": {},
   "outputs": [],
   "source": [
    "links = pd.read_csv('links.csv')"
   ]
  },
  {
   "cell_type": "code",
   "execution_count": 14,
   "metadata": {},
   "outputs": [],
   "source": [
    "small_links = pd.read_csv('small_links.csv')"
   ]
  },
  {
   "cell_type": "code",
   "execution_count": 15,
   "metadata": {},
   "outputs": [
    {
     "name": "stderr",
     "output_type": "stream",
     "text": [
      "C:\\Users\\Travi\\Anaconda3\\lib\\site-packages\\IPython\\core\\interactiveshell.py:3058: DtypeWarning: Columns (10) have mixed types. Specify dtype option on import or set low_memory=False.\n",
      "  interactivity=interactivity, compiler=compiler, result=result)\n"
     ]
    }
   ],
   "source": [
    "movies_metadata = pd.read_csv('movies_metadata.csv')"
   ]
  },
  {
   "cell_type": "code",
   "execution_count": 16,
   "metadata": {},
   "outputs": [],
   "source": [
    "ratings = pd.read_csv('ratings.csv')"
   ]
  },
  {
   "cell_type": "code",
   "execution_count": 17,
   "metadata": {},
   "outputs": [],
   "source": [
    "ratings_small = pd.read_csv('ratings_small.csv')"
   ]
  },
  {
   "cell_type": "code",
   "execution_count": null,
   "metadata": {},
   "outputs": [],
   "source": []
  },
  {
   "cell_type": "code",
   "execution_count": null,
   "metadata": {},
   "outputs": [],
   "source": [
    "# parse json"
   ]
  },
  {
   "cell_type": "code",
   "execution_count": null,
   "metadata": {},
   "outputs": [],
   "source": []
  },
  {
   "cell_type": "code",
   "execution_count": null,
   "metadata": {},
   "outputs": [],
   "source": []
  }
 ],
 "metadata": {
  "kernelspec": {
   "display_name": "Python 3",
   "language": "python",
   "name": "python3"
  },
  "language_info": {
   "codemirror_mode": {
    "name": "ipython",
    "version": 3
   },
   "file_extension": ".py",
   "mimetype": "text/x-python",
   "name": "python",
   "nbconvert_exporter": "python",
   "pygments_lexer": "ipython3",
   "version": "3.7.4"
  }
 },
 "nbformat": 4,
 "nbformat_minor": 2
}
