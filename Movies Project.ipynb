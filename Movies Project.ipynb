{
 "cells": [
  {
   "cell_type": "code",
   "execution_count": 3,
   "metadata": {},
   "outputs": [],
   "source": [
    "import pandas as pd\n",
    "import numpy as np\n",
    "import json"
   ]
  },
  {
   "cell_type": "code",
   "execution_count": 4,
   "metadata": {},
   "outputs": [],
   "source": [
    "credits = pd.read_csv('credits.csv')"
   ]
  },
  {
   "cell_type": "code",
   "execution_count": 67,
   "metadata": {
    "scrolled": true
   },
   "outputs": [
    {
     "data": {
      "text/html": [
       "<div>\n",
       "<style scoped>\n",
       "    .dataframe tbody tr th:only-of-type {\n",
       "        vertical-align: middle;\n",
       "    }\n",
       "\n",
       "    .dataframe tbody tr th {\n",
       "        vertical-align: top;\n",
       "    }\n",
       "\n",
       "    .dataframe thead th {\n",
       "        text-align: right;\n",
       "    }\n",
       "</style>\n",
       "<table border=\"1\" class=\"dataframe\">\n",
       "  <thead>\n",
       "    <tr style=\"text-align: right;\">\n",
       "      <th></th>\n",
       "      <th>cast</th>\n",
       "      <th>crew</th>\n",
       "      <th>id</th>\n",
       "    </tr>\n",
       "  </thead>\n",
       "  <tbody>\n",
       "    <tr>\n",
       "      <td>0</td>\n",
       "      <td>[{'cast_id': 14, 'character': 'Woody (voice)',...</td>\n",
       "      <td>[{'credit_id': '52fe4284c3a36847f8024f49', 'de...</td>\n",
       "      <td>862</td>\n",
       "    </tr>\n",
       "    <tr>\n",
       "      <td>1</td>\n",
       "      <td>[{'cast_id': 1, 'character': 'Alan Parrish', '...</td>\n",
       "      <td>[{'credit_id': '52fe44bfc3a36847f80a7cd1', 'de...</td>\n",
       "      <td>8844</td>\n",
       "    </tr>\n",
       "    <tr>\n",
       "      <td>2</td>\n",
       "      <td>[{'cast_id': 2, 'character': 'Max Goldman', 'c...</td>\n",
       "      <td>[{'credit_id': '52fe466a9251416c75077a89', 'de...</td>\n",
       "      <td>15602</td>\n",
       "    </tr>\n",
       "    <tr>\n",
       "      <td>3</td>\n",
       "      <td>[{'cast_id': 1, 'character': \"Savannah 'Vannah...</td>\n",
       "      <td>[{'credit_id': '52fe44779251416c91011acb', 'de...</td>\n",
       "      <td>31357</td>\n",
       "    </tr>\n",
       "    <tr>\n",
       "      <td>4</td>\n",
       "      <td>[{'cast_id': 1, 'character': 'George Banks', '...</td>\n",
       "      <td>[{'credit_id': '52fe44959251416c75039ed7', 'de...</td>\n",
       "      <td>11862</td>\n",
       "    </tr>\n",
       "  </tbody>\n",
       "</table>\n",
       "</div>"
      ],
      "text/plain": [
       "                                                cast  \\\n",
       "0  [{'cast_id': 14, 'character': 'Woody (voice)',...   \n",
       "1  [{'cast_id': 1, 'character': 'Alan Parrish', '...   \n",
       "2  [{'cast_id': 2, 'character': 'Max Goldman', 'c...   \n",
       "3  [{'cast_id': 1, 'character': \"Savannah 'Vannah...   \n",
       "4  [{'cast_id': 1, 'character': 'George Banks', '...   \n",
       "\n",
       "                                                crew     id  \n",
       "0  [{'credit_id': '52fe4284c3a36847f8024f49', 'de...    862  \n",
       "1  [{'credit_id': '52fe44bfc3a36847f80a7cd1', 'de...   8844  \n",
       "2  [{'credit_id': '52fe466a9251416c75077a89', 'de...  15602  \n",
       "3  [{'credit_id': '52fe44779251416c91011acb', 'de...  31357  \n",
       "4  [{'credit_id': '52fe44959251416c75039ed7', 'de...  11862  "
      ]
     },
     "execution_count": 67,
     "metadata": {},
     "output_type": "execute_result"
    }
   ],
   "source": [
    "credits.head()"
   ]
  },
  {
   "cell_type": "code",
   "execution_count": 18,
   "metadata": {},
   "outputs": [],
   "source": [
    "# credits['cast'][0][1:-1]"
   ]
  },
  {
   "cell_type": "code",
   "execution_count": 17,
   "metadata": {},
   "outputs": [],
   "source": [
    "# for i in range(len(credits['cast'])):\n",
    "#     str_dict = credits['cast'][i].replace(\"[\",\"\")\n",
    "#     str_dict_final = str_dict.replace(\"]\",\"\")\n",
    "#     print(eval(str_dict_final.replace(\"'\", \"\\\"\")))\n",
    "\n"
   ]
  },
  {
   "cell_type": "markdown",
   "metadata": {},
   "source": [
    "the json object in the column cast is a str so i had to try to change it to a json obj but i can't cause it becomes a tuple not a json object, i was watchin some examples they kinda just left the str json object so idk wat to do"
   ]
  },
  {
   "cell_type": "code",
   "execution_count": 19,
   "metadata": {
    "scrolled": false
   },
   "outputs": [
    {
     "data": {
      "text/plain": [
       "\"{'cast_id': 14, 'character': 'Woody (voice)', 'credit_id': '52fe4284c3a36847f8024f95', 'gender': 2, 'id': 31, 'name': 'Tom Hanks', 'order': 0, 'profile_path': '/pQFoyx7rp09CJTAb932F2g8Nlho.jpg'}, {'cast_id': 15, 'character': 'Buzz Lightyear (voice)', 'credit_id': '52fe4284c3a36847f8024f99', 'gender': 2, 'id': 12898, 'name': 'Tim Allen', 'order': 1, 'profile_path': '/uX2xVf6pMmPepxnvFWyBtjexzgY.jpg'}, {'cast_id': 16, 'character': 'Mr. Potato Head (voice)', 'credit_id': '52fe4284c3a36847f8024f9d', 'gender': 2, 'id': 7167, 'name': 'Don Rickles', 'order': 2, 'profile_path': '/h5BcaDMPRVLHLDzbQavec4xfSdt.jpg'}, {'cast_id': 17, 'character': 'Slinky Dog (voice)', 'credit_id': '52fe4284c3a36847f8024fa1', 'gender': 2, 'id': 12899, 'name': 'Jim Varney', 'order': 3, 'profile_path': '/eIo2jVVXYgjDtaHoF19Ll9vtW7h.jpg'}, {'cast_id': 18, 'character': 'Rex (voice)', 'credit_id': '52fe4284c3a36847f8024fa5', 'gender': 2, 'id': 12900, 'name': 'Wallace Shawn', 'order': 4, 'profile_path': '/oGE6JqPP2xH4tNORKNqxbNPYi7u.jpg'}, {'cast_id': 19, 'character': 'Hamm (voice)', 'credit_id': '52fe4284c3a36847f8024fa9', 'gender': 2, 'id': 7907, 'name': 'John Ratzenberger', 'order': 5, 'profile_path': '/yGechiKWL6TJDfVE2KPSJYqdMsY.jpg'}, {'cast_id': 20, 'character': 'Bo Peep (voice)', 'credit_id': '52fe4284c3a36847f8024fad', 'gender': 1, 'id': 8873, 'name': 'Annie Potts', 'order': 6, 'profile_path': '/eryXT84RL41jHSJcMy4kS3u9y6w.jpg'}, {'cast_id': 26, 'character': 'Andy (voice)', 'credit_id': '52fe4284c3a36847f8024fc1', 'gender': 0, 'id': 1116442, 'name': 'John Morris', 'order': 7, 'profile_path': '/vYGyvK4LzeaUCoNSHtsuqJUY15M.jpg'}, {'cast_id': 22, 'character': 'Sid (voice)', 'credit_id': '52fe4284c3a36847f8024fb1', 'gender': 2, 'id': 12901, 'name': 'Erik von Detten', 'order': 8, 'profile_path': '/twnF1ZaJ1FUNUuo6xLXwcxjayBE.jpg'}, {'cast_id': 23, 'character': 'Mrs. Davis (voice)', 'credit_id': '52fe4284c3a36847f8024fb5', 'gender': 1, 'id': 12133, 'name': 'Laurie Metcalf', 'order': 9, 'profile_path': '/unMMIT60eoBM2sN2nyR7EZ2BvvD.jpg'}, {'cast_id': 24, 'character': 'Sergeant (voice)', 'credit_id': '52fe4284c3a36847f8024fb9', 'gender': 2, 'id': 8655, 'name': 'R. Lee Ermey', 'order': 10, 'profile_path': '/r8GBqFBjypLUP9VVqDqfZ7wYbSs.jpg'}, {'cast_id': 25, 'character': 'Hannah (voice)', 'credit_id': '52fe4284c3a36847f8024fbd', 'gender': 1, 'id': 12903, 'name': 'Sarah Freeman', 'order': 11, 'profile_path': None}, {'cast_id': 27, 'character': 'TV Announcer (voice)', 'credit_id': '52fe4284c3a36847f8024fc5', 'gender': 2, 'id': 37221, 'name': 'Penn Jillette', 'order': 12, 'profile_path': '/zmAaXUdx12NRsssgHbk1T31j2x9.jpg'}\""
      ]
     },
     "execution_count": 19,
     "metadata": {},
     "output_type": "execute_result"
    }
   ],
   "source": [
    "str_dict = credits['cast'][0].replace(\"[\",\"\")\n",
    "str_dict_final = str_dict.replace(\"]\",\"\")\n",
    "str_dict_final\n",
    "# eval(str_dict_final.replace(\"'\", \"\\\"\"))"
   ]
  },
  {
   "cell_type": "code",
   "execution_count": 72,
   "metadata": {
    "scrolled": true
   },
   "outputs": [
    {
     "name": "stdout",
     "output_type": "stream",
     "text": [
      "{\"cast_id\": 14, \"character\": \"Woody (voice)\", \"credit_id\": \"52fe4284c3a36847f8024f95\", \"gender\": 2, \"id\": 31, \"name\": \"Tom Hanks\", \"order\": 0, \"profile_path\": \"/pQFoyx7rp09CJTAb932F2g8Nlho.jpg\"}\n",
      "0\n",
      " {\"cast_id\": 15, \"character\": \"Buzz Lightyear (voice)\", \"credit_id\": \"52fe4284c3a36847f8024f99\", \"gender\": 2, \"id\": 12898, \"name\": \"Tim Allen\", \"order\": 1, \"profile_path\": \"/uX2xVf6pMmPepxnvFWyBtjexzgY.jpg\"}\n",
      "1\n",
      " {\"cast_id\": 16, \"character\": \"Mr. Potato Head (voice)\", \"credit_id\": \"52fe4284c3a36847f8024f9d\", \"gender\": 2, \"id\": 7167, \"name\": \"Don Rickles\", \"order\": 2, \"profile_path\": \"/h5BcaDMPRVLHLDzbQavec4xfSdt.jpg\"}\n",
      "2\n",
      " {\"cast_id\": 17, \"character\": \"Slinky Dog (voice)\", \"credit_id\": \"52fe4284c3a36847f8024fa1\", \"gender\": 2, \"id\": 12899, \"name\": \"Jim Varney\", \"order\": 3, \"profile_path\": \"/eIo2jVVXYgjDtaHoF19Ll9vtW7h.jpg\"}\n",
      "3\n",
      " {\"cast_id\": 18, \"character\": \"Rex (voice)\", \"credit_id\": \"52fe4284c3a36847f8024fa5\", \"gender\": 2, \"id\": 12900, \"name\": \"Wallace Shawn\", \"order\": 4, \"profile_path\": \"/oGE6JqPP2xH4tNORKNqxbNPYi7u.jpg\"}\n",
      "4\n",
      " {\"cast_id\": 19, \"character\": \"Hamm (voice)\", \"credit_id\": \"52fe4284c3a36847f8024fa9\", \"gender\": 2, \"id\": 7907, \"name\": \"John Ratzenberger\", \"order\": 5, \"profile_path\": \"/yGechiKWL6TJDfVE2KPSJYqdMsY.jpg\"}\n",
      "5\n",
      " {\"cast_id\": 20, \"character\": \"Bo Peep (voice)\", \"credit_id\": \"52fe4284c3a36847f8024fad\", \"gender\": 1, \"id\": 8873, \"name\": \"Annie Potts\", \"order\": 6, \"profile_path\": \"/eryXT84RL41jHSJcMy4kS3u9y6w.jpg\"}\n",
      "6\n",
      " {\"cast_id\": 26, \"character\": \"Andy (voice)\", \"credit_id\": \"52fe4284c3a36847f8024fc1\", \"gender\": 0, \"id\": 1116442, \"name\": \"John Morris\", \"order\": 7, \"profile_path\": \"/vYGyvK4LzeaUCoNSHtsuqJUY15M.jpg\"}\n",
      "7\n",
      " {\"cast_id\": 22, \"character\": \"Sid (voice)\", \"credit_id\": \"52fe4284c3a36847f8024fb1\", \"gender\": 2, \"id\": 12901, \"name\": \"Erik von Detten\", \"order\": 8, \"profile_path\": \"/twnF1ZaJ1FUNUuo6xLXwcxjayBE.jpg\"}\n",
      "8\n",
      " {\"cast_id\": 23, \"character\": \"Mrs. Davis (voice)\", \"credit_id\": \"52fe4284c3a36847f8024fb5\", \"gender\": 1, \"id\": 12133, \"name\": \"Laurie Metcalf\", \"order\": 9, \"profile_path\": \"/unMMIT60eoBM2sN2nyR7EZ2BvvD.jpg\"}\n",
      "9\n",
      " {\"cast_id\": 24, \"character\": \"Sergeant (voice)\", \"credit_id\": \"52fe4284c3a36847f8024fb9\", \"gender\": 2, \"id\": 8655, \"name\": \"R. Lee Ermey\", \"order\": 10, \"profile_path\": \"/r8GBqFBjypLUP9VVqDqfZ7wYbSs.jpg\"}\n",
      "10\n",
      " {\"cast_id\": 25, \"character\": \"Hannah (voice)\", \"credit_id\": \"52fe4284c3a36847f8024fbd\", \"gender\": 1, \"id\": 12903, \"name\": \"Sarah Freeman\", \"order\": 11, \"profile_path\": \"None\"}\n",
      "11\n",
      " {\"cast_id\": 27, \"character\": \"TV Announcer (voice)\", \"credit_id\": \"52fe4284c3a36847f8024fc5\", \"gender\": 2, \"id\": 37221, \"name\": \"Penn Jillette\", \"order\": 12, \"profile_path\": \"/zmAaXUdx12NRsssgHbk1T31j2x9.jpg\"}\n",
      "12\n"
     ]
    }
   ],
   "source": [
    "temp = str_dict_final.replace('None','\"None\"').split('},')\n",
    "for i in range(len(temp)):\n",
    "    if len(temp)-1 == i:\n",
    "        toConv = temp[i]\n",
    "    else:\n",
    "        toConv = temp[i]+'}'\n",
    "    toConv = toConv.replace(\"'\", '\"')\n",
    "    print(toConv)\n",
    "    print(i)\n",
    "    json.loads(toConv)"
   ]
  },
  {
   "cell_type": "code",
   "execution_count": null,
   "metadata": {},
   "outputs": [],
   "source": [
    "def split_str(row):\n",
    "    temp = row[1:-1]\n",
    "    temp = temp.replace('None','\"None\"').split('},')\n",
    "    for i in range(len(temp)):\n",
    "        if len(temp)-1 == i:\n",
    "            toConv = temp[i]\n",
    "        else:\n",
    "            toConv = temp[i]+'}'\n",
    "        toConv = toConv.replace(\"'\", '\"')\n",
    "        print(toConv)\n",
    "        print(i)\n",
    "        json.loads(toConv)"
   ]
  },
  {
   "cell_type": "code",
   "execution_count": 79,
   "metadata": {},
   "outputs": [
    {
     "name": "stdout",
     "output_type": "stream",
     "text": [
      "0    [{'cast_id': 14, 'character': 'Woody (voice)',...\n",
      "1    [{'cast_id': 1, 'character': 'Alan Parrish', '...\n",
      "2    [{'cast_id': 2, 'character': 'Max Goldman', 'c...\n",
      "3    [{'cast_id': 1, 'character': \"Savannah 'Vannah...\n",
      "4    [{'cast_id': 1, 'character': 'George Banks', '...\n",
      "Name: cast, dtype: object\n",
      "0      862\n",
      "1     8844\n",
      "2    15602\n",
      "3    31357\n",
      "4    11862\n",
      "Name: id, dtype: object\n"
     ]
    },
    {
     "data": {
      "text/plain": [
       "cast    None\n",
       "id      None\n",
       "dtype: object"
      ]
     },
     "execution_count": 79,
     "metadata": {},
     "output_type": "execute_result"
    }
   ],
   "source": [
    "cast = credits[['cast','id']].head()\n",
    "cast.apply(lambda x: print(x))"
   ]
  },
  {
   "cell_type": "code",
   "execution_count": null,
   "metadata": {},
   "outputs": [],
   "source": []
  },
  {
   "cell_type": "code",
   "execution_count": 69,
   "metadata": {},
   "outputs": [],
   "source": [
    "keywords = pd.read_csv('keywords.csv')"
   ]
  },
  {
   "cell_type": "code",
   "execution_count": 70,
   "metadata": {},
   "outputs": [
    {
     "data": {
      "text/html": [
       "<div>\n",
       "<style scoped>\n",
       "    .dataframe tbody tr th:only-of-type {\n",
       "        vertical-align: middle;\n",
       "    }\n",
       "\n",
       "    .dataframe tbody tr th {\n",
       "        vertical-align: top;\n",
       "    }\n",
       "\n",
       "    .dataframe thead th {\n",
       "        text-align: right;\n",
       "    }\n",
       "</style>\n",
       "<table border=\"1\" class=\"dataframe\">\n",
       "  <thead>\n",
       "    <tr style=\"text-align: right;\">\n",
       "      <th></th>\n",
       "      <th>id</th>\n",
       "      <th>keywords</th>\n",
       "    </tr>\n",
       "  </thead>\n",
       "  <tbody>\n",
       "    <tr>\n",
       "      <td>0</td>\n",
       "      <td>862</td>\n",
       "      <td>[{'id': 931, 'name': 'jealousy'}, {'id': 4290,...</td>\n",
       "    </tr>\n",
       "    <tr>\n",
       "      <td>1</td>\n",
       "      <td>8844</td>\n",
       "      <td>[{'id': 10090, 'name': 'board game'}, {'id': 1...</td>\n",
       "    </tr>\n",
       "    <tr>\n",
       "      <td>2</td>\n",
       "      <td>15602</td>\n",
       "      <td>[{'id': 1495, 'name': 'fishing'}, {'id': 12392...</td>\n",
       "    </tr>\n",
       "    <tr>\n",
       "      <td>3</td>\n",
       "      <td>31357</td>\n",
       "      <td>[{'id': 818, 'name': 'based on novel'}, {'id':...</td>\n",
       "    </tr>\n",
       "    <tr>\n",
       "      <td>4</td>\n",
       "      <td>11862</td>\n",
       "      <td>[{'id': 1009, 'name': 'baby'}, {'id': 1599, 'n...</td>\n",
       "    </tr>\n",
       "  </tbody>\n",
       "</table>\n",
       "</div>"
      ],
      "text/plain": [
       "      id                                           keywords\n",
       "0    862  [{'id': 931, 'name': 'jealousy'}, {'id': 4290,...\n",
       "1   8844  [{'id': 10090, 'name': 'board game'}, {'id': 1...\n",
       "2  15602  [{'id': 1495, 'name': 'fishing'}, {'id': 12392...\n",
       "3  31357  [{'id': 818, 'name': 'based on novel'}, {'id':...\n",
       "4  11862  [{'id': 1009, 'name': 'baby'}, {'id': 1599, 'n..."
      ]
     },
     "execution_count": 70,
     "metadata": {},
     "output_type": "execute_result"
    }
   ],
   "source": [
    "keywords.head()"
   ]
  },
  {
   "cell_type": "code",
   "execution_count": 71,
   "metadata": {},
   "outputs": [],
   "source": [
    "links = pd.read_csv('links.csv')"
   ]
  },
  {
   "cell_type": "code",
   "execution_count": null,
   "metadata": {},
   "outputs": [],
   "source": []
  },
  {
   "cell_type": "code",
   "execution_count": 14,
   "metadata": {},
   "outputs": [],
   "source": [
    "small_links = pd.read_csv('small_links.csv')"
   ]
  },
  {
   "cell_type": "code",
   "execution_count": 15,
   "metadata": {},
   "outputs": [
    {
     "name": "stderr",
     "output_type": "stream",
     "text": [
      "C:\\Users\\Travi\\Anaconda3\\lib\\site-packages\\IPython\\core\\interactiveshell.py:3058: DtypeWarning: Columns (10) have mixed types. Specify dtype option on import or set low_memory=False.\n",
      "  interactivity=interactivity, compiler=compiler, result=result)\n"
     ]
    }
   ],
   "source": [
    "movies_metadata = pd.read_csv('movies_metadata.csv')"
   ]
  },
  {
   "cell_type": "code",
   "execution_count": 16,
   "metadata": {},
   "outputs": [],
   "source": [
    "ratings = pd.read_csv('ratings.csv')"
   ]
  },
  {
   "cell_type": "code",
   "execution_count": 17,
   "metadata": {},
   "outputs": [],
   "source": [
    "ratings_small = pd.read_csv('ratings_small.csv')"
   ]
  },
  {
   "cell_type": "code",
   "execution_count": null,
   "metadata": {},
   "outputs": [],
   "source": []
  },
  {
   "cell_type": "code",
   "execution_count": null,
   "metadata": {},
   "outputs": [],
   "source": [
    "# parse json"
   ]
  },
  {
   "cell_type": "code",
   "execution_count": null,
   "metadata": {},
   "outputs": [],
   "source": []
  },
  {
   "cell_type": "code",
   "execution_count": null,
   "metadata": {},
   "outputs": [],
   "source": []
  }
 ],
 "metadata": {
  "kernelspec": {
   "display_name": "Python 3",
   "language": "python",
   "name": "python3"
  },
  "language_info": {
   "codemirror_mode": {
    "name": "ipython",
    "version": 3
   },
   "file_extension": ".py",
   "mimetype": "text/x-python",
   "name": "python",
   "nbconvert_exporter": "python",
   "pygments_lexer": "ipython3",
   "version": "3.7.4"
  }
 },
 "nbformat": 4,
 "nbformat_minor": 2
}
